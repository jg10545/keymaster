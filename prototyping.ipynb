{
 "cells": [
  {
   "cell_type": "code",
   "execution_count": 1,
   "metadata": {},
   "outputs": [],
   "source": [
    "import numpy as np\n",
    "import matplotlib.pyplot as plt\n",
    "import tensorflow as tf\n",
    "\n",
    "%matplotlib inline"
   ]
  },
  {
   "cell_type": "code",
   "execution_count": null,
   "metadata": {},
   "outputs": [],
   "source": []
  },
  {
   "cell_type": "code",
   "execution_count": 2,
   "metadata": {},
   "outputs": [],
   "source": [
    "def get_gaussian_maps(mu, shape_hw, inv_std, mode='ankush'):\n",
    "    \"\"\"\n",
    "    from https://github.com/tomasjakab/imm/blob/0fee6b24466a5657d66099694f98036c3279b245/imm/models/imm_model.py#L34\n",
    "  \n",
    "    Generates [B,SHAPE_H,SHAPE_W,NMAPS] tensor of 2D gaussians,\n",
    "    given the gaussian centers: MU [B, NMAPS, 2] tensor.\n",
    "    STD: is the fixed standard dev.\n",
    "    \"\"\"\n",
    "    with tf.name_scope(None, 'gauss_map', [mu]):\n",
    "        mu_y, mu_x = mu[:, :, 0:1], mu[:, :, 1:2]\n",
    "        y = tf.to_float(tf.linspace(-1.0, 1.0, shape_hw[0]))\n",
    "\n",
    "        x = tf.to_float(tf.linspace(-1.0, 1.0, shape_hw[1]))\n",
    "\n",
    "    if mode in ['rot', 'flat']:\n",
    "        mu_y, mu_x = tf.expand_dims(mu_y, -1), tf.expand_dims(mu_x, -1)\n",
    "\n",
    "        y = tf.reshape(y, [1, 1, shape_hw[0], 1])\n",
    "        x = tf.reshape(x, [1, 1, 1, shape_hw[1]])\n",
    "\n",
    "        g_y = tf.square(y - mu_y)\n",
    "        g_x = tf.square(x - mu_x)\n",
    "        dist = (g_y + g_x) * inv_std**2\n",
    "\n",
    "        if mode == 'rot':\n",
    "            g_yx = tf.exp(-dist)\n",
    "        else:\n",
    "            g_yx = tf.exp(-tf.pow(dist + 1e-5, 0.25))\n",
    "\n",
    "    elif mode == 'ankush':\n",
    "        y = tf.reshape(y, [1, 1, shape_hw[0]])\n",
    "        x = tf.reshape(x, [1, 1, shape_hw[1]])\n",
    "\n",
    "        g_y = tf.exp(-tf.sqrt(1e-4 + tf.abs((mu_y - y) * inv_std)))\n",
    "        g_x = tf.exp(-tf.sqrt(1e-4 + tf.abs((mu_x - x) * inv_std)))\n",
    "\n",
    "        g_y = tf.expand_dims(g_y, axis=3)\n",
    "        g_x = tf.expand_dims(g_x, axis=2)\n",
    "        g_yx = tf.matmul(g_y, g_x)  # [B, NMAPS, H, W]\n",
    "\n",
    "    else:\n",
    "        raise ValueError('Unknown mode: ' + str(mode))\n",
    "\n",
    "    g_yx = tf.transpose(g_yx, perm=[0, 2, 3, 1])\n",
    "    return g_yx"
   ]
  },
  {
   "cell_type": "code",
   "execution_count": 3,
   "metadata": {},
   "outputs": [],
   "source": [
    "def _get_gaussian_maps(mu, shape_hw, inv_std):\n",
    "    \"\"\"\n",
    "    from https://github.com/tomasjakab/imm/blob/0fee6b24466a5657d66099694f98036c3279b245/imm/models/imm_model.py#L34\n",
    "  \n",
    "    Generates [B,SHAPE_H,SHAPE_W,NMAPS] tensor of 2D gaussians,\n",
    "    given the gaussian centers: MU [B, NMAPS, 2] tensor.\n",
    "    STD: is the fixed standard dev.\n",
    "    \"\"\"\n",
    "    mu_y, mu_x = mu[:, :, 0:1], mu[:, :, 1:2]\n",
    "    y = tf.linspace(-1.0, 1.0, shape_hw[0])\n",
    "\n",
    "    x = tf.linspace(-1.0, 1.0, shape_hw[1])\n",
    "\n",
    "\n",
    "\n",
    "    #elif mode == 'ankush':\n",
    "    y = tf.reshape(y, [1, 1, shape_hw[0]])\n",
    "    x = tf.reshape(x, [1, 1, shape_hw[1]])\n",
    "\n",
    "    g_y = tf.exp(-tf.sqrt(1e-4 + tf.abs((mu_y - y) * inv_std)))\n",
    "    g_x = tf.exp(-tf.sqrt(1e-4 + tf.abs((mu_x - x) * inv_std)))\n",
    "\n",
    "    g_y = tf.expand_dims(g_y, axis=3)\n",
    "    g_x = tf.expand_dims(g_x, axis=2)\n",
    "    g_yx = tf.matmul(g_y, g_x)  # [B, NMAPS, H, W]\n",
    "\n",
    "    g_yx = tf.transpose(g_yx, perm=[0, 2, 3, 1])\n",
    "    return g_yx"
   ]
  },
  {
   "cell_type": "code",
   "execution_count": 4,
   "metadata": {},
   "outputs": [
    {
     "data": {
      "text/plain": [
       "\"\\n      xshape = x.shape.as_list()\\n      gauss_y, gauss_y_prob = get_coord(2, xshape[1])  # B,NMAP\\n      gauss_x, gauss_x_prob = get_coord(1, xshape[2])  # B,NMAP\\n      gauss_mu = tf.stack([gauss_y, gauss_x], axis=2)\\n\\n      tf.add_to_collection('tensors', ('gauss_y_prob', gauss_y_prob))\\n      tf.add_to_collection('tensors', ('gauss_x_prob', gauss_x_prob))\\n\\n      gauss_xy = []\\n      for map_size in map_sizes:\\n        gauss_xy_ = get_gaussian_maps(gauss_mu, [map_size, map_size],\\n                                      1.0 / self._config.gauss_std,\\n                                      mode=gauss_mode)\\n        gauss_xy.append(gauss_xy_)\""
      ]
     },
     "execution_count": 4,
     "metadata": {},
     "output_type": "execute_result"
    }
   ],
   "source": [
    "# https://github.com/tomasjakab/imm/blob/0fee6b24466a5657d66099694f98036c3279b245/imm/models/imm_model.py#L252\n",
    "def get_coord(other_axis, axis_size):\n",
    "    ## x is output of the final pose encoder conv layer- should be B,H,W,NMAP\n",
    "    # get \"x-y\" coordinates:\n",
    "    g_c_prob = tf.reduce_mean(x, axis=other_axis)  # B,W,NMAP\n",
    "    g_c_prob = tf.nn.softmax(g_c_prob, axis=1)  # B,W,NMAP\n",
    "    coord_pt = tf.to_float(tf.linspace(-1.0, 1.0, axis_size)) # W\n",
    "    coord_pt = tf.reshape(coord_pt, [1, axis_size, 1]) ## 1,W,1\n",
    "    g_c = tf.reduce_sum(g_c_prob * coord_pt, axis=1) # compute expectation along axis, scaled by coord_pt\n",
    "    return g_c, g_c_prob\n",
    "\n",
    "\"\"\"\n",
    "      xshape = x.shape.as_list()\n",
    "      gauss_y, gauss_y_prob = get_coord(2, xshape[1])  # B,NMAP\n",
    "      gauss_x, gauss_x_prob = get_coord(1, xshape[2])  # B,NMAP\n",
    "      gauss_mu = tf.stack([gauss_y, gauss_x], axis=2)\n",
    "\n",
    "      tf.add_to_collection('tensors', ('gauss_y_prob', gauss_y_prob))\n",
    "      tf.add_to_collection('tensors', ('gauss_x_prob', gauss_x_prob))\n",
    "\n",
    "      gauss_xy = []\n",
    "      for map_size in map_sizes:\n",
    "        gauss_xy_ = get_gaussian_maps(gauss_mu, [map_size, map_size],\n",
    "                                      1.0 / self._config.gauss_std,\n",
    "                                      mode=gauss_mode)\n",
    "        gauss_xy.append(gauss_xy_)\"\"\""
   ]
  },
  {
   "cell_type": "code",
   "execution_count": null,
   "metadata": {},
   "outputs": [],
   "source": []
  },
  {
   "cell_type": "code",
   "execution_count": 5,
   "metadata": {},
   "outputs": [],
   "source": [
    "def _get_coord(x, other_axis, axis_size):\n",
    "    ## x is output of the final pose encoder conv layer- should be B,H,W,NMAP\n",
    "    # get \"x-y\" coordinates:\n",
    "    g_c_prob = tf.reduce_mean(x, axis=other_axis)  # B,W,NMAP\n",
    "    g_c_prob = tf.nn.softmax(g_c_prob, axis=1)  # B,W,NMAP\n",
    "    #coord_pt = tf.to_float(tf.linspace(-1.0, 1.0, axis_size)) # W\n",
    "    coord_pt = tf.linspace(-1.0, 1.0, axis_size) # W\n",
    "    coord_pt = tf.reshape(coord_pt, [1, axis_size, 1]) ## 1,W,1\n",
    "    g_c = tf.reduce_sum(g_c_prob * coord_pt, axis=1) # compute expectation along axis, scaled by coord_pt\n",
    "    return g_c, g_c_prob"
   ]
  },
  {
   "cell_type": "code",
   "execution_count": 6,
   "metadata": {},
   "outputs": [],
   "source": [
    "B = 3\n",
    "H = 5\n",
    "W = 7\n",
    "NMAP = 11\n",
    "\n",
    "pose_encoder_maps = np.random.normal(0, 1, size=(B,H,W,NMAP)).astype(np.float32)"
   ]
  },
  {
   "cell_type": "code",
   "execution_count": 7,
   "metadata": {},
   "outputs": [],
   "source": [
    "gauss_y, gauss_y_probs = _get_coord(pose_encoder_maps, 2, pose_encoder_maps.shape[1])\n",
    "gauss_x, gauss_x_probs = _get_coord(pose_encoder_maps, 1, pose_encoder_maps.shape[2])\n",
    "gauss_mu = tf.stack([gauss_y, gauss_x], axis=2)"
   ]
  },
  {
   "cell_type": "code",
   "execution_count": 8,
   "metadata": {},
   "outputs": [
    {
     "data": {
      "text/plain": [
       "TensorShape([3, 11])"
      ]
     },
     "execution_count": 8,
     "metadata": {},
     "output_type": "execute_result"
    }
   ],
   "source": [
    "gauss_y.shape"
   ]
  },
  {
   "cell_type": "code",
   "execution_count": 9,
   "metadata": {},
   "outputs": [
    {
     "data": {
      "text/plain": [
       "<matplotlib.image.AxesImage at 0x7fc099158050>"
      ]
     },
     "execution_count": 9,
     "metadata": {},
     "output_type": "execute_result"
    },
    {
     "data": {
      "image/png": "[encoded data removed]",
      "text/plain": [
       "<Figure size 432x288 with 1 Axes>"
      ]
     },
     "metadata": {
      "needs_background": "light"
     },
     "output_type": "display_data"
    }
   ],
   "source": [
    "plt.imshow(pose_encoder_maps[0,:,:,0])"
   ]
  },
  {
   "cell_type": "code",
   "execution_count": 10,
   "metadata": {},
   "outputs": [
    {
     "data": {
      "text/plain": [
       "TensorShape([3, 11, 2])"
      ]
     },
     "execution_count": 10,
     "metadata": {},
     "output_type": "execute_result"
    }
   ],
   "source": [
    "gauss_mu.shape"
   ]
  },
  {
   "cell_type": "code",
   "execution_count": 11,
   "metadata": {},
   "outputs": [
    {
     "data": {
      "text/plain": [
       "[<matplotlib.lines.Line2D at 0x7fbfd0481d90>]"
      ]
     },
     "execution_count": 11,
     "metadata": {},
     "output_type": "execute_result"
    },
    {
     "data": {
      "image/png": "[encoded data removed]",
      "text/plain": [
       "<Figure size 432x288 with 1 Axes>"
      ]
     },
     "metadata": {
      "needs_background": "light"
     },
     "output_type": "display_data"
    }
   ],
   "source": [
    "plt.plot(gauss_mu[0,:,0], gauss_mu[0,:,1], \".\")"
   ]
  },
  {
   "cell_type": "code",
   "execution_count": 12,
   "metadata": {},
   "outputs": [],
   "source": [
    "map_size = 10\n",
    "gauss_std = 0.1\n",
    "gauss_xy_ = _get_gaussian_maps(gauss_mu, [map_size, map_size],\n",
    "                                      1.0 /gauss_std)"
   ]
  },
  {
   "cell_type": "code",
   "execution_count": 13,
   "metadata": {},
   "outputs": [
    {
     "data": {
      "text/plain": [
       "TensorShape([3, 10, 10, 11])"
      ]
     },
     "execution_count": 13,
     "metadata": {},
     "output_type": "execute_result"
    }
   ],
   "source": [
    "gauss_xy_.shape"
   ]
  },
  {
   "cell_type": "code",
   "execution_count": 14,
   "metadata": {},
   "outputs": [
    {
     "data": {
      "text/plain": [
       "<matplotlib.image.AxesImage at 0x7fbfd03b86d0>"
      ]
     },
     "execution_count": 14,
     "metadata": {},
     "output_type": "execute_result"
    },
    {
     "data": {
      "image/png": "[encoded data removed]",
      "text/plain": [
       "<Figure size 432x288 with 2 Axes>"
      ]
     },
     "metadata": {
      "needs_background": "light"
     },
     "output_type": "display_data"
    }
   ],
   "source": [
    "i = 2\n",
    "j = 1\n",
    "plt.subplot(121)\n",
    "plt.imshow(pose_encoder_maps[i,:,:,j])\n",
    "plt.subplot(122)\n",
    "plt.imshow(gauss_xy_[i,:,:,j])"
   ]
  },
  {
   "cell_type": "code",
   "execution_count": 15,
   "metadata": {},
   "outputs": [],
   "source": [
    "def generate_gaussians(pose_maps, std=0.1):\n",
    "    gauss_y, gauss_y_probs = _get_coord(pose_maps, 2, pose_maps.shape[1])\n",
    "    gauss_x, gauss_x_probs = _get_coord(pose_maps, 1, pose_maps.shape[2])\n",
    "    gauss_mu = tf.stack([gauss_y, gauss_x], axis=2)\n",
    "    gauss_xy_ = _get_gaussian_maps(gauss_mu, pose_maps.shape[1:3], 1.0 /std)\n",
    "    return gauss_xy_"
   ]
  },
  {
   "cell_type": "code",
   "execution_count": null,
   "metadata": {},
   "outputs": [],
   "source": [
    "\n"
   ]
  },
  {
   "cell_type": "code",
   "execution_count": 16,
   "metadata": {},
   "outputs": [
    {
     "data": {
      "text/plain": [
       "<matplotlib.image.AxesImage at 0x7fbfd038de90>"
      ]
     },
     "execution_count": 16,
     "metadata": {},
     "output_type": "execute_result"
    },
    {
     "data": {
      "image/png": "[encoded data removed]",
      "text/plain": [
       "<Figure size 432x288 with 2 Axes>"
      ]
     },
     "metadata": {
      "needs_background": "light"
     },
     "output_type": "display_data"
    }
   ],
   "source": [
    "i = 0\n",
    "j = 2\n",
    "plt.subplot(121)\n",
    "plt.imshow(pose_encoder_maps[i,:,:,j])\n",
    "plt.subplot(122)\n",
    "plt.imshow(generate_gaussians(pose_encoder_maps)[i,:,:,j])"
   ]
  },
  {
   "cell_type": "code",
   "execution_count": null,
   "metadata": {},
   "outputs": [],
   "source": []
  }
 ],
 "metadata": {
  "kernelspec": {
   "display_name": "Python 3",
   "language": "python",
   "name": "python3"
  },
  "language_info": {
   "codemirror_mode": {
    "name": "ipython",
    "version": 3
   },
   "file_extension": ".py",
   "mimetype": "text/x-python",
   "name": "python",
   "nbconvert_exporter": "python",
   "pygments_lexer": "ipython3",
   "version": "3.7.7"
  }
 },
 "nbformat": 4,
 "nbformat_minor": 4
}
